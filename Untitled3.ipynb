{
  "nbformat": 4,
  "nbformat_minor": 0,
  "metadata": {
    "colab": {
      "name": "Untitled3.ipynb",
      "provenance": [],
      "authorship_tag": "ABX9TyMlxwf3DNknyBIrUTP3tneu",
      "include_colab_link": true
    },
    "kernelspec": {
      "name": "python3",
      "display_name": "Python 3"
    },
    "language_info": {
      "name": "python"
    }
  },
  "cells": [
    {
      "cell_type": "markdown",
      "metadata": {
        "id": "view-in-github",
        "colab_type": "text"
      },
      "source": [
        "<a href=\"https://colab.research.google.com/github/Benn-Y/first-repository/blob/main/Untitled3.ipynb\" target=\"_parent\"><img src=\"https://colab.research.google.com/assets/colab-badge.svg\" alt=\"Open In Colab\"/></a>"
      ]
    },
    {
      "cell_type": "code",
      "execution_count": 29,
      "metadata": {
        "colab": {
          "base_uri": "https://localhost:8080/"
        },
        "id": "pgOswCQzymMU",
        "outputId": "f1628a13-c234-431d-d32a-a2688b54b38e"
      },
      "outputs": [
        {
          "output_type": "stream",
          "name": "stdout",
          "text": [
            "Your  Toyota Corolla S  is not full. It needs to be refilled.\n",
            "Your  Toyota Corolla S  is moving at  50 km.\n",
            "Your  Toyota Corolla S  has stopped moving.\n",
            "Your  Toyota Corolla S  is full.\n"
          ]
        }
      ],
      "source": [
        "class Vehicle:\n",
        "  def __init__(self, brand, model, type):\n",
        "    self.brand = brand\n",
        "    self.model = model\n",
        "    self.type = type\n",
        "    self.fuel_level = 0\n",
        "    self.fuel_tank_level = 100\n",
        "    \n",
        "\n",
        "  def get_fuel_level(self):\n",
        "    if self.fuel_level == 100:\n",
        "      print(\"Your \", self.brand, self.model, \" is full.\")\n",
        "    else:\n",
        "      print(\"Your \", self.brand, self.model, \" is not full. It needs to be refilled.\")\n",
        "\n",
        "  def refill_tank(self):\n",
        "    if self.fuel_level <= self.fuel_tank_level:\n",
        "      self.fuel_level = self.fuel_tank_level\n",
        "    \n",
        "\n",
        "  def drive(self, speed):\n",
        "    print(\"Your \", self.brand, self.model, \" is moving at \", speed, \"km.\") \n",
        "\n",
        "  def stop(self):\n",
        "    print(\"Your \", self.brand, self.model, \" has stopped moving.\")\n",
        "\n",
        "\n",
        "firstVehicle = Vehicle(\"Toyota\", \"Corolla S\", \"Car\")\n",
        "firstVehicle. get_fuel_level()\n",
        "firstVehicle.refill_tank()\n",
        "firstVehicle.drive(50)\n",
        "firstVehicle.stop()\n",
        "firstVehicle.get_fuel_level()\n"
      ]
    },
    {
      "cell_type": "code",
      "source": [
        "class ElectronicVehicle(Vehicle):\n",
        "  def __init__(self, brand, model, type):\n",
        "    self.brand = brand\n",
        "    self.model = model \n",
        "    self.type = type\n",
        "    self.battery_level = 0\n",
        "    self.battery_capacity = 100\n",
        "    super().__init__(brand, model, type)\n",
        "\n",
        "\n",
        "  def charge(self):\n",
        "    if self.battery_level < self.battery_capacity:\n",
        "      self.battery_level = self.battery_capacity\n",
        "      return self.battery_level\n",
        "\n",
        "  def get_battery_level(self):\n",
        "    if self.battery_level == 100:\n",
        "      print(\"Your \", self.brand, self.model, \" is fully charged.\")\n",
        "    else:\n",
        "      print(\"Your \", self.brand, self.model, \" needs to be charged.\")\n",
        "\n",
        "\n",
        "  def drive(self, speed):\n",
        "    print(\"Your \", self.brand, self.model, \" is moving at \", speed, \"km.\") \n",
        "    \n",
        "\n",
        "  def stop(self):\n",
        "    print(\"Your \", self.brand, self.model, \" has stopped moving.\")\n",
        "    \n",
        "\n",
        "\n",
        "e_vehicle = ElectronicVehicle(\"Chevrolet\", \"Camaro\", \"Car\")\n",
        "e_vehicle.get_battery_level()\n",
        "e_vehicle.charge()\n",
        "e_vehicle.get_battery_level()\n",
        "e_vehicle.drive(80)\n",
        "e_vehicle.stop()\n",
        "\n",
        "\n",
        "\n",
        "\n"
      ],
      "metadata": {
        "colab": {
          "base_uri": "https://localhost:8080/"
        },
        "id": "FR7M2jaMy-bg",
        "outputId": "cc6dca19-b4a3-4b09-9f49-d3d2ceb30407"
      },
      "execution_count": 36,
      "outputs": [
        {
          "output_type": "stream",
          "name": "stdout",
          "text": [
            "Your  Chevrolet Camaro  needs to be charged.\n",
            "Your  Chevrolet Camaro  is fully charged.\n",
            "Your  Chevrolet Camaro  is moving at  80 km.\n",
            "Your  Chevrolet Camaro  has stopped moving.\n"
          ]
        }
      ]
    },
    {
      "cell_type": "code",
      "source": [
        ""
      ],
      "metadata": {
        "id": "r-nj7Dy2-8Zk"
      },
      "execution_count": null,
      "outputs": []
    }
  ]
}