{
  "nbformat": 4,
  "nbformat_minor": 0,
  "metadata": {
    "colab": {
      "name": "Untitled0.ipynb",
      "provenance": [],
      "authorship_tag": "ABX9TyOtSc5IlAuh9P7cyq0ro/95",
      "include_colab_link": true
    },
    "kernelspec": {
      "name": "python3",
      "display_name": "Python 3"
    },
    "language_info": {
      "name": "python"
    }
  },
  "cells": [
    {
      "cell_type": "markdown",
      "metadata": {
        "id": "view-in-github",
        "colab_type": "text"
      },
      "source": [
        "<a href=\"https://colab.research.google.com/github/Benn-Y/first-repository/blob/main/Untitled0.ipynb\" target=\"_parent\"><img src=\"https://colab.research.google.com/assets/colab-badge.svg\" alt=\"Open In Colab\"/></a>"
      ]
    },
    {
      "cell_type": "code",
      "execution_count": 1,
      "metadata": {
        "id": "Fq6gnl2xxqfD"
      },
      "outputs": [],
      "source": [
        "class Course:\n",
        "  def __init__(self, course_name, course_code, credit_hours):\n",
        "    self.course_name = course_name\n",
        "    self.course_code = course_code\n",
        "    self.credit_hours = credit_hours\n",
        "    self.courses = []\n",
        "  \n",
        "\n",
        "  def add_course(self):\n",
        "    self.courses.append(self.course_name)\n",
        "\n",
        "    \n",
        "\n",
        "  def print_courses(self):\n",
        "    for course in self.courses:\n",
        "      print(course)\n",
        "\n",
        "\n",
        "  def remove_course(self):\n",
        "    pass\n",
        "\n",
        "\n",
        "course1 = Course(\"Programming Fundamentals\", \"DCIT 104\", 3)\n",
        "course1.add_course()\n",
        "course1.print_courses()\n"
      ]
    },
    {
      "cell_type": "code",
      "source": [
        "class Student(Course):\n",
        "  def __init__(self, name, id):\n",
        "    super().__init__(course_name, course_code, credit_hours)\n",
        "    self.name = name\n",
        "    self.id = id\n",
        "    self.student_course = Course(course_name, course_code, credit_hours)\n",
        "\n",
        "  def print_details(self):\n",
        "    print(\"Name: \", self.name)\n",
        "    print(\"Student ID: \", self.id)\n",
        "    print(\"Course: \")\n",
        "\n",
        "  \n",
        "\n",
        "\n"
      ],
      "metadata": {
        "id": "vDFmYAb-zOjL"
      },
      "execution_count": 7,
      "outputs": []
    },
    {
      "cell_type": "code",
      "source": [
        "class Lecturer:\n",
        "  def __init__(self, lect_name):\n",
        "    self.lect_name = lect_name\n",
        "    self.list_students = []\n",
        "\n",
        "\n",
        "  def add_student(self, Student):\n",
        "    pass"
      ],
      "metadata": {
        "id": "2uZAU-Df5apY"
      },
      "execution_count": null,
      "outputs": []
    }
  ]
}