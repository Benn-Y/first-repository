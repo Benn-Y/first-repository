{
  "nbformat": 4,
  "nbformat_minor": 0,
  "metadata": {
    "colab": {
      "name": "Untitled0.ipynb",
      "provenance": [],
      "authorship_tag": "ABX9TyOXK6du/i69xqxplfDK4B4S",
      "include_colab_link": true
    },
    "kernelspec": {
      "name": "python3",
      "display_name": "Python 3"
    },
    "language_info": {
      "name": "python"
    }
  },
  "cells": [
    {
      "cell_type": "markdown",
      "metadata": {
        "id": "view-in-github",
        "colab_type": "text"
      },
      "source": [
        "<a href=\"https://colab.research.google.com/github/Benn-Y/first-repository/blob/main/Untitled0.ipynb\" target=\"_parent\"><img src=\"https://colab.research.google.com/assets/colab-badge.svg\" alt=\"Open In Colab\"/></a>"
      ]
    },
    {
      "cell_type": "code",
      "execution_count": 47,
      "metadata": {
        "colab": {
          "base_uri": "https://localhost:8080/"
        },
        "id": "4RJqUXleD5GG",
        "outputId": "684617ec-f578-4b4c-f570-1b3165d743a0"
      },
      "outputs": [
        {
          "output_type": "stream",
          "name": "stdout",
          "text": [
            "I can walk\n",
            "Hi there! My name is  Eric\n",
            "I have  2  legs, a  big nose  and  blue  eyes.\n",
            "Henry\n"
          ]
        }
      ],
      "source": [
        "class Human:\n",
        "  def __init__(self, legs, nose, eyes, name):\n",
        "    self.legs = legs\n",
        "    self.nose = nose\n",
        "    self.eyes = eyes\n",
        "    self.name = name\n",
        "\n",
        "  def walk(self):\n",
        "    if self.legs == 2:\n",
        "      print(\"I can walk\")\n",
        "    else:\n",
        "      print(\"oops, I don't have the facilities to walk\")\n",
        "    \n",
        "  def describe(self):\n",
        "    print(\"Hi there! My name is \", self.name)\n",
        "    print(\"I have \", self.legs, \" legs, a \", self.nose, \" and \", self.eyes, \" eyes.\")\n",
        "\n",
        "  def change_name(self, new_name):\n",
        "    self.name = new_name\n",
        "\n",
        "firstHuman = Human(2, \"big nose\", \"blue\", \"Eric\")\n",
        "firstHuman.walk()\n",
        "firstHuman.describe()\n",
        "firstHuman.change_name(\"Henry\")\n",
        "print(firstHuman.name)"
      ]
    },
    {
      "cell_type": "code",
      "source": [
        "class Course:\n",
        "  def __init__(self, name, code, creditHours):\n",
        "    self.name = name\n",
        "    self.code = code\n",
        "    self.creditHours = creditHours\n",
        "\n",
        "firstCourse = Course(\"Prog. 1\", \"DCIT 201\", 3)\n",
        "\n",
        "\n",
        "\n"
      ],
      "metadata": {
        "id": "VOa1LuN2Jaus"
      },
      "execution_count": 54,
      "outputs": []
    },
    {
      "cell_type": "code",
      "source": [
        "class Student:\n",
        "  def __init__(self, name, id):\n",
        "    self.name = name\n",
        "    self.id = id\n",
        "    self.courses = []\n",
        "  \n",
        "  def addCourse(self, Course):\n",
        "    self.courses.append(Course)\n",
        "    for i in self.courses:\n",
        "      print(i.name)\n",
        "  \n",
        "  def print_proof(self):\n",
        "    print(self.courses)"
      ],
      "metadata": {
        "id": "hMAogc1eS9Ym"
      },
      "execution_count": 51,
      "outputs": []
    },
    {
      "cell_type": "code",
      "source": [
        "\n",
        "student1 = Student(\"Bernard\", \"10332234\")\n",
        "student1.addCourse(firstCourse)\n",
        "\n",
        "student1.print_proof()\n"
      ],
      "metadata": {
        "colab": {
          "base_uri": "https://localhost:8080/"
        },
        "id": "bcZW44buUAYT",
        "outputId": "b22f813a-9218-4e70-d608-8a042570fa04"
      },
      "execution_count": 58,
      "outputs": [
        {
          "output_type": "stream",
          "name": "stdout",
          "text": [
            "[<__main__.Course object at 0x7f8c235ceb10>]\n"
          ]
        }
      ]
    },
    {
      "cell_type": "code",
      "source": [
        ""
      ],
      "metadata": {
        "id": "k-aLvMSZUAbE"
      },
      "execution_count": null,
      "outputs": []
    }
  ]
}