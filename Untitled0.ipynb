{
  "nbformat": 4,
  "nbformat_minor": 0,
  "metadata": {
    "colab": {
      "name": "Untitled0.ipynb",
      "provenance": [],
      "authorship_tag": "ABX9TyPUNTO5V2xA201jnBXGC7nm",
      "include_colab_link": true
    },
    "kernelspec": {
      "name": "python3",
      "display_name": "Python 3"
    },
    "language_info": {
      "name": "python"
    }
  },
  "cells": [
    {
      "cell_type": "markdown",
      "metadata": {
        "id": "view-in-github",
        "colab_type": "text"
      },
      "source": [
        "<a href=\"https://colab.research.google.com/github/Benn-Y/first-repository/blob/main/Untitled0.ipynb\" target=\"_parent\"><img src=\"https://colab.research.google.com/assets/colab-badge.svg\" alt=\"Open In Colab\"/></a>"
      ]
    },
    {
      "cell_type": "code",
      "execution_count": 41,
      "metadata": {
        "colab": {
          "base_uri": "https://localhost:8080/"
        },
        "id": "Fq6gnl2xxqfD",
        "outputId": "e16be9ed-b3f0-46b7-b220-f0152bdfaec9"
      },
      "outputs": [
        {
          "output_type": "stream",
          "name": "stdout",
          "text": [
            "Programming Fundamentals\n"
          ]
        }
      ],
      "source": [
        "class Course:\n",
        "  def __init__(self, course_name, course_code, credit_hours):\n",
        "    self.course_name = course_name\n",
        "    self.course_code = course_code\n",
        "    self.credit_hours = credit_hours\n",
        "    self.courses = []\n",
        "  \n",
        "\n",
        "  def add_course(self):\n",
        "    self.courses.append(self.course_name)\n",
        "\n",
        "    \n",
        "\n",
        "  def print_courses(self):\n",
        "    for course in self.courses:\n",
        "      print(course)\n",
        "\n",
        "\n",
        "  def remove_course(self):\n",
        "    pass\n",
        "\n",
        "\n",
        "course1 = Course(\"Programming Fundamentals\", \"DCIT 104\", 3)\n",
        "course1.add_course()\n",
        "course1.print_courses()\n"
      ]
    },
    {
      "cell_type": "code",
      "source": [
        "class Student:\n",
        "  def __init__(self, name, id):\n",
        "    self.name = name\n",
        "    self.id = id\n",
        "    \n",
        "    \n",
        "\n",
        "  def print_details(self, Course):\n",
        "    print(\"Name: \", self.name)\n",
        "    print(\"Student ID: \", self.id)\n",
        "    print(f\"Course: {Course.course_name} ({Course.course_code})\")\n",
        "\n",
        "\n",
        "first_student = Student(\"Bernard\", \"10890849\")\n",
        "first_student.print_details(course1)\n",
        "\n",
        "  \n",
        "\n",
        "\n"
      ],
      "metadata": {
        "colab": {
          "base_uri": "https://localhost:8080/"
        },
        "id": "vDFmYAb-zOjL",
        "outputId": "a914d9e5-8249-44f3-cc5e-858c5ee71acd"
      },
      "execution_count": 42,
      "outputs": [
        {
          "output_type": "stream",
          "name": "stdout",
          "text": [
            "Name:  Bernard\n",
            "Student ID:  10890849\n",
            "Course: Programming Fundamentals (DCIT 104)\n"
          ]
        }
      ]
    },
    {
      "cell_type": "code",
      "source": [
        "class Lecturer:\n",
        "  def __init__(self, lect_name):\n",
        "    self.lect_name = lect_name\n",
        "    self.list_students = []\n",
        "    self.listStudentCourse = []\n",
        "\n",
        "\n",
        "  def add_student(self, Student):\n",
        "    self.list_students.append(Student)\n",
        "\n",
        "\n",
        "\n",
        "  def assign_course(self, Course):\n",
        "    self.listStudentCourse.append(Course)\n",
        "    \n",
        "    \n",
        "\n",
        "\n",
        "  def print_student_details(self, Student, Course):\n",
        "    for course in self.listStudentCourse:\n",
        "      print(\"Course Name:\", course.course_name)\n",
        "      print(\"Course Code:\", course.course_code)\n",
        "\n",
        "    for student in self.list_students:\n",
        "      print(\"Student's Name:\", student.name)\n",
        "      print(\"Student ID:\", student.id)\n",
        "\n",
        "\n",
        "\n",
        "    \n",
        "\n",
        "lecturer = Lecturer(\"Mark Atta\")\n",
        "lecturer.add_student(first_student)\n",
        "lecturer.assign_course(course1)\n",
        "lecturer.print_student_details(first_student, course1)\n",
        "\n",
        "\n",
        "\n",
        "\n"
      ],
      "metadata": {
        "colab": {
          "base_uri": "https://localhost:8080/"
        },
        "id": "2uZAU-Df5apY",
        "outputId": "3f2f987c-4967-44c8-eb0e-de39a132ce83"
      },
      "execution_count": 43,
      "outputs": [
        {
          "output_type": "stream",
          "name": "stdout",
          "text": [
            "Course Name: Programming Fundamentals\n",
            "Course Code: DCIT 104\n",
            "Student's Name: Bernard\n",
            "Student ID: 10890849\n"
          ]
        }
      ]
    },
    {
      "cell_type": "code",
      "source": [
        "class HoD:\n",
        "  def __init__(self):\n",
        "    self.lect_list = []\n",
        "\n",
        "  def assign_lect(self, Lecturer):\n",
        "    self.lect_list.append(Lecturer)\n",
        "\n",
        "\n",
        "  def  print_lect_details(self, Lecturer, Course):\n",
        "    print(\"Lecturer Name:\", Lecturer.lect_name)\n",
        "    print(f\"Course Assigned: {Course.course_name} ({Course.course_code})\")\n",
        "    print(\"Number of students:\", len(Lecturer.list_students))\n",
        "\n",
        "\n",
        "\n",
        "first_hod = HoD()\n",
        "\n",
        "first_hod.assign_lect(lecturer)\n",
        "first_hod.print_lect_details(lecturer, course1)\n",
        "\n"
      ],
      "metadata": {
        "colab": {
          "base_uri": "https://localhost:8080/"
        },
        "id": "tPogr1bJZQpN",
        "outputId": "c23d0caa-cb50-49a2-96bd-2f561ce418ed"
      },
      "execution_count": 44,
      "outputs": [
        {
          "output_type": "stream",
          "name": "stdout",
          "text": [
            "Lecturer Name: Mark Atta\n",
            "Course Assigned: Programming Fundamentals (DCIT 104)\n",
            "Number of students: 1\n"
          ]
        }
      ]
    }
  ]
}